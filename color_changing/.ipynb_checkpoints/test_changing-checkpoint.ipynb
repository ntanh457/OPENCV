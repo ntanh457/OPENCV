{
 "cells": [
  {
   "cell_type": "code",
   "execution_count": 14,
   "metadata": {},
   "outputs": [
    {
     "data": {
      "text/plain": [
       "array([[[156, 149, 156],\n",
       "        [184, 177, 184],\n",
       "        [203, 197, 202],\n",
       "        ...,\n",
       "        [255, 255, 255],\n",
       "        [255, 255, 255],\n",
       "        [255, 255, 255]],\n",
       "\n",
       "       [[166, 159, 166],\n",
       "        [188, 181, 188],\n",
       "        [202, 196, 201],\n",
       "        ...,\n",
       "        [255, 255, 255],\n",
       "        [255, 255, 255],\n",
       "        [255, 255, 255]],\n",
       "\n",
       "       [[180, 173, 180],\n",
       "        [193, 186, 193],\n",
       "        [200, 194, 199],\n",
       "        ...,\n",
       "        [255, 255, 255],\n",
       "        [255, 255, 255],\n",
       "        [255, 255, 255]],\n",
       "\n",
       "       ...,\n",
       "\n",
       "       [[ 78,  83,  82],\n",
       "        [ 74,  79,  78],\n",
       "        [ 68,  73,  72],\n",
       "        ...,\n",
       "        [102, 102,  96],\n",
       "        [101, 101,  95],\n",
       "        [100, 100,  94]],\n",
       "\n",
       "       [[ 82,  87,  86],\n",
       "        [ 78,  83,  82],\n",
       "        [ 74,  79,  78],\n",
       "        ...,\n",
       "        [ 98,  98,  92],\n",
       "        [ 96,  96,  90],\n",
       "        [ 94,  94,  88]],\n",
       "\n",
       "       [[ 74,  79,  78],\n",
       "        [ 70,  75,  74],\n",
       "        [ 67,  72,  71],\n",
       "        ...,\n",
       "        [ 94,  94,  88],\n",
       "        [ 92,  92,  86],\n",
       "        [ 90,  90,  84]]], dtype=uint8)"
      ]
     },
     "execution_count": 14,
     "metadata": {},
     "output_type": "execute_result"
    }
   ],
   "source": [
    "import cv2\n",
    "\n",
    "img = cv2.imread('image.jpg')\n",
    "img"
   ]
  },
  {
   "cell_type": "code",
   "execution_count": 15,
   "metadata": {},
   "outputs": [
    {
     "data": {
      "text/plain": [
       "array([[156, 149, 156],\n",
       "       [184, 177, 184],\n",
       "       [203, 197, 202],\n",
       "       ...,\n",
       "       [255, 255, 255],\n",
       "       [255, 255, 255],\n",
       "       [255, 255, 255]], dtype=uint8)"
      ]
     },
     "execution_count": 15,
     "metadata": {},
     "output_type": "execute_result"
    }
   ],
   "source": [
    "img[0] # show all first row"
   ]
  },
  {
   "cell_type": "code",
   "execution_count": 23,
   "metadata": {},
   "outputs": [
    {
     "data": {
      "text/plain": [
       "array([203, 197, 202], dtype=uint8)"
      ]
     },
     "execution_count": 23,
     "metadata": {},
     "output_type": "execute_result"
    }
   ],
   "source": [
    "img[0][2] # show a cell is intersection of first row and third column, or pixel at (0,2)"
   ]
  },
  {
   "cell_type": "code",
   "execution_count": 26,
   "metadata": {},
   "outputs": [
    {
     "data": {
      "text/plain": [
       "array([203, 197, 202], dtype=uint8)"
      ]
     },
     "execution_count": 26,
     "metadata": {},
     "output_type": "execute_result"
    }
   ],
   "source": [
    "img[0,2] # show a cell is intersection of first row and third column"
   ]
  },
  {
   "cell_type": "code",
   "execution_count": 25,
   "metadata": {},
   "outputs": [
    {
     "data": {
      "text/plain": [
       "203"
      ]
     },
     "execution_count": 25,
     "metadata": {},
     "output_type": "execute_result"
    }
   ],
   "source": [
    "#[Blue,green,red]\n",
    "img[0,2,0] # display first item in the list "
   ]
  },
  {
   "cell_type": "code",
   "execution_count": null,
   "metadata": {},
   "outputs": [],
   "source": []
  }
 ],
 "metadata": {
  "kernelspec": {
   "display_name": "Python 3",
   "language": "python",
   "name": "python3"
  },
  "language_info": {
   "codemirror_mode": {
    "name": "ipython",
    "version": 3
   },
   "file_extension": ".py",
   "mimetype": "text/x-python",
   "name": "python",
   "nbconvert_exporter": "python",
   "pygments_lexer": "ipython3",
   "version": "3.8.2"
  }
 },
 "nbformat": 4,
 "nbformat_minor": 4
}
